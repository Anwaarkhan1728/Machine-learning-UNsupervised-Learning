{
 "cells": [
  {
   "cell_type": "markdown",
   "id": "02baf504",
   "metadata": {},
   "source": [
    "# Reading, Resizing and displaying image"
   ]
  },
  {
   "cell_type": "code",
   "execution_count": 1,
   "id": "3b6bc5bc",
   "metadata": {},
   "outputs": [],
   "source": [
    "import numpy as np\n",
    "import matplotlib.pyplot as plt\n",
    "import cv2"
   ]
  },
  {
   "cell_type": "code",
   "execution_count": 2,
   "id": "471d3db3",
   "metadata": {},
   "outputs": [],
   "source": [
    "image= cv2.imread(\"D:\\\\picturedataset\\\\1728.jpeg\")\n",
    "image= cv2.resize(image, (400, 200))\n",
    "cv2.imshow(\"1728image\", image)\n",
    "\n",
    "cv2.waitKey(0)\n",
    "cv2.destroyAllWindows()"
   ]
  },
  {
   "cell_type": "markdown",
   "id": "eafc05a6",
   "metadata": {},
   "source": [
    "# converting GBR 2 RGB"
   ]
  },
  {
   "cell_type": "code",
   "execution_count": 3,
   "id": "9557e2ba",
   "metadata": {},
   "outputs": [],
   "source": [
    "img= cv2.imread(\"D:\\\\picturedataset\\\\anwaar.jpeg\")\n",
    "img= cv2.cvtColor(img, cv2.COLOR_BGR2RGB)\n",
    "cv2.imshow(\"anwaar_img\", img)\n",
    "\n",
    "cv2.waitKey(0)\n",
    "cv2.destroyAllWindows()"
   ]
  },
  {
   "cell_type": "markdown",
   "id": "bffd365e",
   "metadata": {},
   "source": [
    "# Gray color"
   ]
  },
  {
   "cell_type": "code",
   "execution_count": 4,
   "id": "91779025",
   "metadata": {},
   "outputs": [],
   "source": [
    "image_bgr = cv2.imread(\"D:\\\\picturedataset\\\\khan.jpeg\")\n",
    "image_bgr=cv2.resize(image_bgr,(400,200))\n",
    "image_gray = cv2.cvtColor(image_bgr, cv2.COLOR_BGR2GRAY)\n",
    "\n",
    "cv2.imshow(\"khan\", image_gray)\n",
    "cv2.waitKey(0)\n",
    "cv2.destroyAllWindows()\n"
   ]
  },
  {
   "cell_type": "markdown",
   "id": "e9967a3d",
   "metadata": {},
   "source": [
    "# convert into matirx "
   ]
  },
  {
   "cell_type": "code",
   "execution_count": 5,
   "id": "e0dae0ce",
   "metadata": {
    "scrolled": true
   },
   "outputs": [
    {
     "name": "stdout",
     "output_type": "stream",
     "text": [
      "[[[112  85  41]\n",
      "  [112  85  41]\n",
      "  [112  85  41]\n",
      "  ...\n",
      "  [118  91  47]\n",
      "  [118  91  47]\n",
      "  [118  91  47]]\n",
      "\n",
      " [[112  85  41]\n",
      "  [112  85  41]\n",
      "  [112  85  41]\n",
      "  ...\n",
      "  [118  91  47]\n",
      "  [118  91  47]\n",
      "  [118  91  47]]\n",
      "\n",
      " [[112  85  41]\n",
      "  [112  85  41]\n",
      "  [112  85  41]\n",
      "  ...\n",
      "  [118  91  47]\n",
      "  [118  91  47]\n",
      "  [118  91  47]]\n",
      "\n",
      " ...\n",
      "\n",
      " [[ 95  75  40]\n",
      "  [ 95  75  40]\n",
      "  [ 95  75  40]\n",
      "  ...\n",
      "  [102  76  36]\n",
      "  [102  76  36]\n",
      "  [102  76  36]]\n",
      "\n",
      " [[ 95  75  40]\n",
      "  [ 95  75  40]\n",
      "  [ 95  75  40]\n",
      "  ...\n",
      "  [102  76  36]\n",
      "  [102  76  36]\n",
      "  [102  76  36]]\n",
      "\n",
      " [[ 95  75  40]\n",
      "  [ 95  75  40]\n",
      "  [ 95  75  40]\n",
      "  ...\n",
      "  [102  76  36]\n",
      "  [102  76  36]\n",
      "  [102  76  36]]]\n"
     ]
    }
   ],
   "source": [
    "import cv2\n",
    "\n",
    "img=cv2.imread(\"D:\\\\picturedataset\\\\niazi.jpeg\")\n",
    "\n",
    "img_matrix=np.array(img)\n",
    "print(img_matrix)\n",
    "#cv2.imshow(\"img_matrix\", img)\n",
    "cv2.waitKey(0)\n",
    "cv2.destroyAllWindows()"
   ]
  },
  {
   "cell_type": "markdown",
   "id": "c97686a8",
   "metadata": {},
   "source": [
    "# color chanal"
   ]
  },
  {
   "cell_type": "code",
   "execution_count": 6,
   "id": "b69272c4",
   "metadata": {},
   "outputs": [
    {
     "name": "stdout",
     "output_type": "stream",
     "text": [
      "[[[41  0  0]\n",
      "  [41  0  0]\n",
      "  [41  0  0]\n",
      "  ...\n",
      "  [47  0  0]\n",
      "  [47  0  0]\n",
      "  [47  0  0]]\n",
      "\n",
      " [[41  0  0]\n",
      "  [41  0  0]\n",
      "  [41  0  0]\n",
      "  ...\n",
      "  [47  0  0]\n",
      "  [47  0  0]\n",
      "  [47  0  0]]\n",
      "\n",
      " [[41  0  0]\n",
      "  [41  0  0]\n",
      "  [41  0  0]\n",
      "  ...\n",
      "  [47  0  0]\n",
      "  [47  0  0]\n",
      "  [47  0  0]]\n",
      "\n",
      " ...\n",
      "\n",
      " [[40  0  0]\n",
      "  [40  0  0]\n",
      "  [40  0  0]\n",
      "  ...\n",
      "  [36  0  0]\n",
      "  [36  0  0]\n",
      "  [36  0  0]]\n",
      "\n",
      " [[40  0  0]\n",
      "  [40  0  0]\n",
      "  [40  0  0]\n",
      "  ...\n",
      "  [36  0  0]\n",
      "  [36  0  0]\n",
      "  [36  0  0]]\n",
      "\n",
      " [[40  0  0]\n",
      "  [40  0  0]\n",
      "  [40  0  0]\n",
      "  ...\n",
      "  [36  0  0]\n",
      "  [36  0  0]\n",
      "  [36  0  0]]]\n"
     ]
    }
   ],
   "source": [
    "import cv2\n",
    "import numpy as np\n",
    "\n",
    "img=cv2.imread(\"D:\\\\picturedataset\\\\niazi.jpeg\")\n",
    "\n",
    "img_rgb = cv2.cvtColor(img, cv2.COLOR_BGR2RGB)\n",
    "\n",
    "blue_channel, green_channel, red_channel = cv2.split(img_rgb)\n",
    "zero_channel=np.zeros(img_rgb.shape[0:2],dtype=\"uint8\")\n",
    "\n",
    "blue_img=cv2.merge([blue_channel, zero_channel, zero_channel])\n",
    "\n",
    "blue_matrix= np.array(blue_img)\n",
    "\n",
    "print(blue_matrix)\n",
    "\n",
    "cv2.imshow('Blue Channel', blue_channel)\n",
    "cv2.imshow('Red Channel', red_channel)\n",
    "cv2.imshow('Green Channel', green_channel)\n",
    "\n",
    "cv2.waitKey(0)\n",
    "cv2.destroyAllWindows()"
   ]
  },
  {
   "cell_type": "code",
   "execution_count": null,
   "id": "87f07b25",
   "metadata": {},
   "outputs": [],
   "source": []
  }
 ],
 "metadata": {
  "kernelspec": {
   "display_name": "Python 3 (ipykernel)",
   "language": "python",
   "name": "python3"
  },
  "language_info": {
   "codemirror_mode": {
    "name": "ipython",
    "version": 3
   },
   "file_extension": ".py",
   "mimetype": "text/x-python",
   "name": "python",
   "nbconvert_exporter": "python",
   "pygments_lexer": "ipython3",
   "version": "3.9.18"
  }
 },
 "nbformat": 4,
 "nbformat_minor": 5
}
